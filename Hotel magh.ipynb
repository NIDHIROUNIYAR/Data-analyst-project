{
 "cells": [
  {
   "cell_type": "code",
   "execution_count": 9,
   "id": "caddbdaf-51f8-47d6-a2dd-9cdd487bc21b",
   "metadata": {},
   "outputs": [],
   "source": [
    "import pandas as pd"
   ]
  },
  {
   "cell_type": "code",
   "execution_count": 2,
   "id": "4314a95d-90f8-4a71-b3ae-81734b2ebb1f",
   "metadata": {},
   "outputs": [],
   "source": [
    "file_path = \"Hotel Magh 2079-.xlsx\""
   ]
  },
  {
   "cell_type": "code",
   "execution_count": 21,
   "id": "3faa48c0-5611-4a43-9fe8-3ad6aff54f31",
   "metadata": {},
   "outputs": [
    {
     "name": "stderr",
     "output_type": "stream",
     "text": [
      "C:\\Users\\uSer\\anaconda3\\Lib\\site-packages\\openpyxl\\worksheet\\_read_only.py:81: UserWarning: Unknown extension is not supported and will be removed\n",
      "  for idx, row in parser.parse():\n"
     ]
    }
   ],
   "source": [
    "#Read file \n",
    "\n",
    "df = pd.read_excel(file_path, sheet_name='Magh',header=2)#Sheet name is magh and column header starts from 3rd row"
   ]
  },
  {
   "cell_type": "code",
   "execution_count": 23,
   "id": "7eb78fb6-3eee-427d-b328-32e06ce393ff",
   "metadata": {},
   "outputs": [
    {
     "data": {
      "text/html": [
       "<div>\n",
       "<style scoped>\n",
       "    .dataframe tbody tr th:only-of-type {\n",
       "        vertical-align: middle;\n",
       "    }\n",
       "\n",
       "    .dataframe tbody tr th {\n",
       "        vertical-align: top;\n",
       "    }\n",
       "\n",
       "    .dataframe thead th {\n",
       "        text-align: right;\n",
       "    }\n",
       "</style>\n",
       "<table border=\"1\" class=\"dataframe\">\n",
       "  <thead>\n",
       "    <tr style=\"text-align: right;\">\n",
       "      <th></th>\n",
       "      <th>DATE</th>\n",
       "      <th>INCOME/EXPENSE</th>\n",
       "      <th>DEPARTMENT</th>\n",
       "      <th>TYPE</th>\n",
       "      <th>COSTUMER</th>\n",
       "      <th>PARTICULAR</th>\n",
       "      <th>QTY</th>\n",
       "      <th>UOM</th>\n",
       "      <th>CREDIT</th>\n",
       "      <th>CASH</th>\n",
       "      <th>REMARKS</th>\n",
       "      <th>TYPER</th>\n",
       "      <th>CREDITOR/DEBTOR</th>\n",
       "    </tr>\n",
       "  </thead>\n",
       "  <tbody>\n",
       "    <tr>\n",
       "      <th>0</th>\n",
       "      <td>2079-10-01</td>\n",
       "      <td>Income</td>\n",
       "      <td>Room</td>\n",
       "      <td>202</td>\n",
       "      <td>Sujan Tulachan</td>\n",
       "      <td>Room</td>\n",
       "      <td>1</td>\n",
       "      <td>Day</td>\n",
       "      <td>NaN</td>\n",
       "      <td>2000.0</td>\n",
       "      <td>BILL NO 250</td>\n",
       "      <td>s</td>\n",
       "      <td>Cash</td>\n",
       "    </tr>\n",
       "    <tr>\n",
       "      <th>1</th>\n",
       "      <td>2079-10-01</td>\n",
       "      <td>Income</td>\n",
       "      <td>Room</td>\n",
       "      <td>204</td>\n",
       "      <td>Sujan Tulachan</td>\n",
       "      <td>Room</td>\n",
       "      <td>1</td>\n",
       "      <td>Day</td>\n",
       "      <td>NaN</td>\n",
       "      <td>2000.0</td>\n",
       "      <td>BILL NO 250</td>\n",
       "      <td>s</td>\n",
       "      <td>Cash</td>\n",
       "    </tr>\n",
       "    <tr>\n",
       "      <th>2</th>\n",
       "      <td>2079-10-01</td>\n",
       "      <td>Income</td>\n",
       "      <td>Resturant</td>\n",
       "      <td>Bar</td>\n",
       "      <td>Sujan Tulachan</td>\n",
       "      <td>Mineral Water</td>\n",
       "      <td>3</td>\n",
       "      <td>Bottle</td>\n",
       "      <td>NaN</td>\n",
       "      <td>90.0</td>\n",
       "      <td>BILL NO 250</td>\n",
       "      <td>s</td>\n",
       "      <td>Cash</td>\n",
       "    </tr>\n",
       "    <tr>\n",
       "      <th>3</th>\n",
       "      <td>2079-10-01</td>\n",
       "      <td>Income</td>\n",
       "      <td>Resturant</td>\n",
       "      <td>Food</td>\n",
       "      <td>Sujan Tulachan</td>\n",
       "      <td>Normal Breakfast</td>\n",
       "      <td>2</td>\n",
       "      <td>Set</td>\n",
       "      <td>NaN</td>\n",
       "      <td>600.0</td>\n",
       "      <td>BILL NO 250</td>\n",
       "      <td>s</td>\n",
       "      <td>Cash</td>\n",
       "    </tr>\n",
       "    <tr>\n",
       "      <th>4</th>\n",
       "      <td>2079-10-01</td>\n",
       "      <td>Income</td>\n",
       "      <td>Resturant</td>\n",
       "      <td>Food</td>\n",
       "      <td>Sujan Tulachan</td>\n",
       "      <td>Veg Soup</td>\n",
       "      <td>1</td>\n",
       "      <td>Boul</td>\n",
       "      <td>NaN</td>\n",
       "      <td>150.0</td>\n",
       "      <td>BILL NO 250</td>\n",
       "      <td>s</td>\n",
       "      <td>Cash</td>\n",
       "    </tr>\n",
       "    <tr>\n",
       "      <th>...</th>\n",
       "      <td>...</td>\n",
       "      <td>...</td>\n",
       "      <td>...</td>\n",
       "      <td>...</td>\n",
       "      <td>...</td>\n",
       "      <td>...</td>\n",
       "      <td>...</td>\n",
       "      <td>...</td>\n",
       "      <td>...</td>\n",
       "      <td>...</td>\n",
       "      <td>...</td>\n",
       "      <td>...</td>\n",
       "      <td>...</td>\n",
       "    </tr>\n",
       "    <tr>\n",
       "      <th>1278</th>\n",
       "      <td>2079-10-29</td>\n",
       "      <td>Expense</td>\n",
       "      <td>Kitchen</td>\n",
       "      <td>Food</td>\n",
       "      <td>Shrestha Kirana Pasal</td>\n",
       "      <td>Chowmein</td>\n",
       "      <td>3</td>\n",
       "      <td>Packet</td>\n",
       "      <td>NaN</td>\n",
       "      <td>300.0</td>\n",
       "      <td>BILL NO 137</td>\n",
       "      <td>r</td>\n",
       "      <td>Cash</td>\n",
       "    </tr>\n",
       "    <tr>\n",
       "      <th>1279</th>\n",
       "      <td>2079-10-29</td>\n",
       "      <td>Expense</td>\n",
       "      <td>Adminstration</td>\n",
       "      <td>Misc</td>\n",
       "      <td>Kalika Plastic Centre</td>\n",
       "      <td>P/P Jhola</td>\n",
       "      <td>1</td>\n",
       "      <td>Kg</td>\n",
       "      <td>NaN</td>\n",
       "      <td>350.0</td>\n",
       "      <td>BILL NO 99</td>\n",
       "      <td>r</td>\n",
       "      <td>Cash</td>\n",
       "    </tr>\n",
       "    <tr>\n",
       "      <th>1280</th>\n",
       "      <td>2079-10-29</td>\n",
       "      <td>Income</td>\n",
       "      <td>Resturant</td>\n",
       "      <td>Food</td>\n",
       "      <td>Out Guest</td>\n",
       "      <td>Miracle Khaja Set</td>\n",
       "      <td>2</td>\n",
       "      <td>Set</td>\n",
       "      <td>NaN</td>\n",
       "      <td>800.0</td>\n",
       "      <td>BILL NO 693</td>\n",
       "      <td>r</td>\n",
       "      <td>Fonepay</td>\n",
       "    </tr>\n",
       "    <tr>\n",
       "      <th>1281</th>\n",
       "      <td>2079-10-29</td>\n",
       "      <td>Income</td>\n",
       "      <td>Resturant</td>\n",
       "      <td>Food</td>\n",
       "      <td>DMC Collage</td>\n",
       "      <td>Chicken Jhol Momo</td>\n",
       "      <td>2</td>\n",
       "      <td>Plate</td>\n",
       "      <td>600.0</td>\n",
       "      <td>NaN</td>\n",
       "      <td>BILL NO 694</td>\n",
       "      <td>r</td>\n",
       "      <td>Debtor</td>\n",
       "    </tr>\n",
       "    <tr>\n",
       "      <th>1282</th>\n",
       "      <td>2079-10-29</td>\n",
       "      <td>Income</td>\n",
       "      <td>Resturant</td>\n",
       "      <td>Food</td>\n",
       "      <td>Office</td>\n",
       "      <td>Ginger Honey</td>\n",
       "      <td>1</td>\n",
       "      <td>Glass</td>\n",
       "      <td>100.0</td>\n",
       "      <td>NaN</td>\n",
       "      <td>BILL NO 695</td>\n",
       "      <td>r</td>\n",
       "      <td>Debtor</td>\n",
       "    </tr>\n",
       "  </tbody>\n",
       "</table>\n",
       "<p>1283 rows × 13 columns</p>\n",
       "</div>"
      ],
      "text/plain": [
       "           DATE INCOME/EXPENSE     DEPARTMENT  TYPE               COSTUMER  \\\n",
       "0    2079-10-01         Income           Room   202         Sujan Tulachan   \n",
       "1    2079-10-01         Income           Room   204         Sujan Tulachan   \n",
       "2    2079-10-01         Income      Resturant   Bar         Sujan Tulachan   \n",
       "3    2079-10-01         Income      Resturant  Food         Sujan Tulachan   \n",
       "4    2079-10-01         Income      Resturant  Food         Sujan Tulachan   \n",
       "...         ...            ...            ...   ...                    ...   \n",
       "1278 2079-10-29        Expense        Kitchen  Food  Shrestha Kirana Pasal   \n",
       "1279 2079-10-29        Expense  Adminstration  Misc  Kalika Plastic Centre   \n",
       "1280 2079-10-29         Income      Resturant  Food              Out Guest   \n",
       "1281 2079-10-29         Income      Resturant  Food            DMC Collage   \n",
       "1282 2079-10-29         Income      Resturant  Food                 Office   \n",
       "\n",
       "             PARTICULAR QTY     UOM  CREDIT    CASH      REMARKS TYPER  \\\n",
       "0                  Room   1     Day     NaN  2000.0  BILL NO 250     s   \n",
       "1                  Room   1     Day     NaN  2000.0  BILL NO 250     s   \n",
       "2         Mineral Water   3  Bottle     NaN    90.0  BILL NO 250     s   \n",
       "3      Normal Breakfast   2     Set     NaN   600.0  BILL NO 250     s   \n",
       "4              Veg Soup   1    Boul     NaN   150.0  BILL NO 250     s   \n",
       "...                 ...  ..     ...     ...     ...          ...   ...   \n",
       "1278           Chowmein   3  Packet     NaN   300.0  BILL NO 137     r   \n",
       "1279          P/P Jhola   1      Kg     NaN   350.0   BILL NO 99     r   \n",
       "1280  Miracle Khaja Set   2     Set     NaN   800.0  BILL NO 693     r   \n",
       "1281  Chicken Jhol Momo   2   Plate   600.0     NaN  BILL NO 694     r   \n",
       "1282       Ginger Honey   1   Glass   100.0     NaN  BILL NO 695     r   \n",
       "\n",
       "     CREDITOR/DEBTOR  \n",
       "0               Cash  \n",
       "1               Cash  \n",
       "2               Cash  \n",
       "3               Cash  \n",
       "4               Cash  \n",
       "...              ...  \n",
       "1278            Cash  \n",
       "1279            Cash  \n",
       "1280         Fonepay  \n",
       "1281          Debtor  \n",
       "1282          Debtor  \n",
       "\n",
       "[1283 rows x 13 columns]"
      ]
     },
     "execution_count": 23,
     "metadata": {},
     "output_type": "execute_result"
    }
   ],
   "source": [
    "df\n"
   ]
  },
  {
   "cell_type": "code",
   "execution_count": 25,
   "id": "f3f68568-4077-44f2-b5e0-6c6b58e1bf63",
   "metadata": {},
   "outputs": [
    {
     "name": "stdout",
     "output_type": "stream",
     "text": [
      "Dataset Overview:\n",
      "Total Rows: 1283\n",
      "Total Columns: 13\n",
      "Columns with Missing Values:\n",
      "DATE               0\n",
      "INCOME/EXPENSE     0\n",
      "DEPARTMENT         0\n",
      "TYPE               0\n",
      "COSTUMER           0\n",
      "PARTICULAR         0\n",
      "QTY                0\n",
      "UOM                0\n",
      "CREDIT             0\n",
      "CASH               0\n",
      "REMARKS            0\n",
      "TYPER              0\n",
      "CREDITOR/DEBTOR    0\n",
      "dtype: int64\n",
      "\n"
     ]
    }
   ],
   "source": [
    "print(\"Dataset Overview:\")\n",
    "print(f\"Total Rows: {data.shape[0]}\")\n",
    "print(f\"Total Columns: {data.shape[1]}\")\n",
    "print(f\"Columns with Missing Values:\\n{data.isnull().sum()}\\n\")"
   ]
  },
  {
   "cell_type": "code",
   "execution_count": 71,
   "id": "e221f264-6bd5-48eb-8d93-3d316b407c56",
   "metadata": {},
   "outputs": [
    {
     "name": "stdout",
     "output_type": "stream",
     "text": [
      "        DATE INCOME/EXPENSE DEPARTMENT  TYPE        COSTUMER  \\\n",
      "0 2079-10-01         Income       Room   202  Sujan Tulachan   \n",
      "1 2079-10-01         Income       Room   204  Sujan Tulachan   \n",
      "2 2079-10-01         Income  Resturant   Bar  Sujan Tulachan   \n",
      "3 2079-10-01         Income  Resturant  Food  Sujan Tulachan   \n",
      "4 2079-10-01         Income  Resturant  Food  Sujan Tulachan   \n",
      "\n",
      "         PARTICULAR QTY     UOM  CREDIT    CASH      REMARKS TYPER  \\\n",
      "0              Room   1     Day     0.0  2000.0  BILL NO 250     s   \n",
      "1              Room   1     Day     0.0  2000.0  BILL NO 250     s   \n",
      "2     Mineral Water   3  Bottle     0.0    90.0  BILL NO 250     s   \n",
      "3  Normal Breakfast   2     Set     0.0   600.0  BILL NO 250     s   \n",
      "4          Veg Soup   1    Boul     0.0   150.0  BILL NO 250     s   \n",
      "\n",
      "  CREDITOR/DEBTOR  \n",
      "0            Cash  \n",
      "1            Cash  \n",
      "2            Cash  \n",
      "3            Cash  \n",
      "4            Cash  \n"
     ]
    }
   ],
   "source": [
    "def replace_nulls_with_zeros(df, columns):\n",
    "    # Replace null values with 0 in the specified columns\n",
    "    df[columns] = df[columns].fillna(0)\n",
    "    return df\n",
    "\n",
    "# List of columns where you want to replace null values\n",
    "columns_to_replace = ['QTY', 'UOM', 'CREDIT', 'CASH', 'REMARKS']\n",
    "\n",
    "# Correct function name and call the function\n",
    "data = replace_nulls_with_zeros(data, columns_to_replace)\n",
    "\n",
    "# Print the first few rows of the updated DataFrame\n",
    "print(data.head())"
   ]
  },
  {
   "cell_type": "code",
   "execution_count": 29,
   "id": "5e290550-19f3-4a59-b485-b57037b4b32f",
   "metadata": {},
   "outputs": [
    {
     "data": {
      "text/html": [
       "<div>\n",
       "<style scoped>\n",
       "    .dataframe tbody tr th:only-of-type {\n",
       "        vertical-align: middle;\n",
       "    }\n",
       "\n",
       "    .dataframe tbody tr th {\n",
       "        vertical-align: top;\n",
       "    }\n",
       "\n",
       "    .dataframe thead th {\n",
       "        text-align: right;\n",
       "    }\n",
       "</style>\n",
       "<table border=\"1\" class=\"dataframe\">\n",
       "  <thead>\n",
       "    <tr style=\"text-align: right;\">\n",
       "      <th></th>\n",
       "      <th>DATE</th>\n",
       "      <th>INCOME/EXPENSE</th>\n",
       "      <th>DEPARTMENT</th>\n",
       "      <th>TYPE</th>\n",
       "      <th>COSTUMER</th>\n",
       "      <th>PARTICULAR</th>\n",
       "      <th>QTY</th>\n",
       "      <th>UOM</th>\n",
       "      <th>CREDIT</th>\n",
       "      <th>CASH</th>\n",
       "      <th>REMARKS</th>\n",
       "      <th>TYPER</th>\n",
       "      <th>CREDITOR/DEBTOR</th>\n",
       "    </tr>\n",
       "  </thead>\n",
       "  <tbody>\n",
       "    <tr>\n",
       "      <th>0</th>\n",
       "      <td>2079-10-01</td>\n",
       "      <td>Income</td>\n",
       "      <td>Room</td>\n",
       "      <td>202</td>\n",
       "      <td>Sujan Tulachan</td>\n",
       "      <td>Room</td>\n",
       "      <td>1</td>\n",
       "      <td>Day</td>\n",
       "      <td>0.0</td>\n",
       "      <td>2000.0</td>\n",
       "      <td>BILL NO 250</td>\n",
       "      <td>s</td>\n",
       "      <td>Cash</td>\n",
       "    </tr>\n",
       "    <tr>\n",
       "      <th>1</th>\n",
       "      <td>2079-10-01</td>\n",
       "      <td>Income</td>\n",
       "      <td>Room</td>\n",
       "      <td>204</td>\n",
       "      <td>Sujan Tulachan</td>\n",
       "      <td>Room</td>\n",
       "      <td>1</td>\n",
       "      <td>Day</td>\n",
       "      <td>0.0</td>\n",
       "      <td>2000.0</td>\n",
       "      <td>BILL NO 250</td>\n",
       "      <td>s</td>\n",
       "      <td>Cash</td>\n",
       "    </tr>\n",
       "    <tr>\n",
       "      <th>2</th>\n",
       "      <td>2079-10-01</td>\n",
       "      <td>Income</td>\n",
       "      <td>Resturant</td>\n",
       "      <td>Bar</td>\n",
       "      <td>Sujan Tulachan</td>\n",
       "      <td>Mineral Water</td>\n",
       "      <td>3</td>\n",
       "      <td>Bottle</td>\n",
       "      <td>0.0</td>\n",
       "      <td>90.0</td>\n",
       "      <td>BILL NO 250</td>\n",
       "      <td>s</td>\n",
       "      <td>Cash</td>\n",
       "    </tr>\n",
       "    <tr>\n",
       "      <th>3</th>\n",
       "      <td>2079-10-01</td>\n",
       "      <td>Income</td>\n",
       "      <td>Resturant</td>\n",
       "      <td>Food</td>\n",
       "      <td>Sujan Tulachan</td>\n",
       "      <td>Normal Breakfast</td>\n",
       "      <td>2</td>\n",
       "      <td>Set</td>\n",
       "      <td>0.0</td>\n",
       "      <td>600.0</td>\n",
       "      <td>BILL NO 250</td>\n",
       "      <td>s</td>\n",
       "      <td>Cash</td>\n",
       "    </tr>\n",
       "    <tr>\n",
       "      <th>4</th>\n",
       "      <td>2079-10-01</td>\n",
       "      <td>Income</td>\n",
       "      <td>Resturant</td>\n",
       "      <td>Food</td>\n",
       "      <td>Sujan Tulachan</td>\n",
       "      <td>Veg Soup</td>\n",
       "      <td>1</td>\n",
       "      <td>Boul</td>\n",
       "      <td>0.0</td>\n",
       "      <td>150.0</td>\n",
       "      <td>BILL NO 250</td>\n",
       "      <td>s</td>\n",
       "      <td>Cash</td>\n",
       "    </tr>\n",
       "  </tbody>\n",
       "</table>\n",
       "</div>"
      ],
      "text/plain": [
       "        DATE INCOME/EXPENSE DEPARTMENT  TYPE        COSTUMER  \\\n",
       "0 2079-10-01         Income       Room   202  Sujan Tulachan   \n",
       "1 2079-10-01         Income       Room   204  Sujan Tulachan   \n",
       "2 2079-10-01         Income  Resturant   Bar  Sujan Tulachan   \n",
       "3 2079-10-01         Income  Resturant  Food  Sujan Tulachan   \n",
       "4 2079-10-01         Income  Resturant  Food  Sujan Tulachan   \n",
       "\n",
       "         PARTICULAR QTY     UOM  CREDIT    CASH      REMARKS TYPER  \\\n",
       "0              Room   1     Day     0.0  2000.0  BILL NO 250     s   \n",
       "1              Room   1     Day     0.0  2000.0  BILL NO 250     s   \n",
       "2     Mineral Water   3  Bottle     0.0    90.0  BILL NO 250     s   \n",
       "3  Normal Breakfast   2     Set     0.0   600.0  BILL NO 250     s   \n",
       "4          Veg Soup   1    Boul     0.0   150.0  BILL NO 250     s   \n",
       "\n",
       "  CREDITOR/DEBTOR  \n",
       "0            Cash  \n",
       "1            Cash  \n",
       "2            Cash  \n",
       "3            Cash  \n",
       "4            Cash  "
      ]
     },
     "execution_count": 29,
     "metadata": {},
     "output_type": "execute_result"
    }
   ],
   "source": [
    "data.head(5)"
   ]
  },
  {
   "cell_type": "code",
   "execution_count": 41,
   "id": "388e991f-4bdc-4dab-be2a-f888a2378fdc",
   "metadata": {},
   "outputs": [
    {
     "data": {
      "text/html": [
       "<div>\n",
       "<style scoped>\n",
       "    .dataframe tbody tr th:only-of-type {\n",
       "        vertical-align: middle;\n",
       "    }\n",
       "\n",
       "    .dataframe tbody tr th {\n",
       "        vertical-align: top;\n",
       "    }\n",
       "\n",
       "    .dataframe thead th {\n",
       "        text-align: right;\n",
       "    }\n",
       "</style>\n",
       "<table border=\"1\" class=\"dataframe\">\n",
       "  <thead>\n",
       "    <tr style=\"text-align: right;\">\n",
       "      <th></th>\n",
       "      <th>DATE</th>\n",
       "      <th>CREDIT</th>\n",
       "      <th>CASH</th>\n",
       "    </tr>\n",
       "  </thead>\n",
       "  <tbody>\n",
       "    <tr>\n",
       "      <th>count</th>\n",
       "      <td>1283</td>\n",
       "      <td>609.000000</td>\n",
       "      <td>674.000000</td>\n",
       "    </tr>\n",
       "    <tr>\n",
       "      <th>mean</th>\n",
       "      <td>2079-10-15 17:28:17.583788032</td>\n",
       "      <td>1817.241297</td>\n",
       "      <td>3649.028190</td>\n",
       "    </tr>\n",
       "    <tr>\n",
       "      <th>min</th>\n",
       "      <td>2079-10-01 00:00:00</td>\n",
       "      <td>-1645.000000</td>\n",
       "      <td>-5000.000000</td>\n",
       "    </tr>\n",
       "    <tr>\n",
       "      <th>25%</th>\n",
       "      <td>2079-10-09 00:00:00</td>\n",
       "      <td>200.000000</td>\n",
       "      <td>200.000000</td>\n",
       "    </tr>\n",
       "    <tr>\n",
       "      <th>50%</th>\n",
       "      <td>2079-10-16 00:00:00</td>\n",
       "      <td>420.000000</td>\n",
       "      <td>450.000000</td>\n",
       "    </tr>\n",
       "    <tr>\n",
       "      <th>75%</th>\n",
       "      <td>2079-10-23 00:00:00</td>\n",
       "      <td>1100.000000</td>\n",
       "      <td>1200.000000</td>\n",
       "    </tr>\n",
       "    <tr>\n",
       "      <th>max</th>\n",
       "      <td>2079-10-29 00:00:00</td>\n",
       "      <td>118575.000000</td>\n",
       "      <td>399950.000000</td>\n",
       "    </tr>\n",
       "    <tr>\n",
       "      <th>std</th>\n",
       "      <td>NaN</td>\n",
       "      <td>7859.371229</td>\n",
       "      <td>24674.528753</td>\n",
       "    </tr>\n",
       "  </tbody>\n",
       "</table>\n",
       "</div>"
      ],
      "text/plain": [
       "                                DATE         CREDIT           CASH\n",
       "count                           1283     609.000000     674.000000\n",
       "mean   2079-10-15 17:28:17.583788032    1817.241297    3649.028190\n",
       "min              2079-10-01 00:00:00   -1645.000000   -5000.000000\n",
       "25%              2079-10-09 00:00:00     200.000000     200.000000\n",
       "50%              2079-10-16 00:00:00     420.000000     450.000000\n",
       "75%              2079-10-23 00:00:00    1100.000000    1200.000000\n",
       "max              2079-10-29 00:00:00  118575.000000  399950.000000\n",
       "std                              NaN    7859.371229   24674.528753"
      ]
     },
     "execution_count": 41,
     "metadata": {},
     "output_type": "execute_result"
    }
   ],
   "source": [
    "df.describe()"
   ]
  },
  {
   "cell_type": "code",
   "execution_count": 11,
   "id": "9894df76-1a03-447e-b1ac-0adf7e4b0cda",
   "metadata": {},
   "outputs": [],
   "source": [
    "import numpy as np"
   ]
  },
  {
   "cell_type": "code",
   "execution_count": 13,
   "id": "14c38e92-162f-44da-ad5e-314f1ed06a47",
   "metadata": {},
   "outputs": [],
   "source": [
    "import matplotlib.pyplot as plt"
   ]
  },
  {
   "cell_type": "code",
   "execution_count": 19,
   "id": "41225619-0d04-4cac-8664-a25030071d17",
   "metadata": {},
   "outputs": [],
   "source": [
    "import pandas as pd"
   ]
  },
  {
   "cell_type": "code",
   "execution_count": 15,
   "id": "bac0cc2c-3ab3-449d-bcc5-f758fba4d1a0",
   "metadata": {},
   "outputs": [],
   "source": [
    "# calculate daily sales "
   ]
  },
  {
   "cell_type": "code",
   "execution_count": 67,
   "id": "dabdc3be-50b0-49b5-880d-4c019cad9695",
   "metadata": {},
   "outputs": [
    {
     "name": "stdout",
     "output_type": "stream",
     "text": [
      "                CASH     CREDIT\n",
      "DATE                           \n",
      "2079-10-01    8800.0    5675.00\n",
      "2079-10-02   17650.0    4875.00\n",
      "2079-10-03   10230.0   10387.50\n",
      "2079-10-04   17685.0    2100.00\n",
      "2079-10-05   26250.0     420.00\n",
      "2079-10-06   17720.0       0.00\n",
      "2079-10-07    2000.0   12080.00\n",
      "2079-10-08   20075.0     300.00\n",
      "2079-10-09    6150.0     400.00\n",
      "2079-10-10   11300.0    1347.45\n",
      "2079-10-11   12400.0       0.00\n",
      "2079-10-12    7360.0     300.00\n",
      "2079-10-13  135900.0       0.00\n",
      "2079-10-14  453750.0    5250.00\n",
      "2079-10-15    4870.0   10250.00\n",
      "2079-10-16  122100.0     200.00\n",
      "2079-10-17    6245.0    2340.00\n",
      "2079-10-18   14294.0    7900.00\n",
      "2079-10-19   14150.0    2425.00\n",
      "2079-10-20   22015.0       0.00\n",
      "2079-10-21    9520.0   36825.00\n",
      "2079-10-22   12085.0  111050.00\n",
      "2079-10-23   10255.0    8190.00\n",
      "2079-10-24  103975.0     225.00\n",
      "2079-10-25    2470.0    4945.00\n",
      "2079-10-26   12850.0   10670.00\n",
      "2079-10-27   20300.0  150030.00\n",
      "2079-10-28   17416.0   11500.00\n",
      "2079-10-29  400900.0    4150.00\n"
     ]
    },
    {
     "data": {
      "text/plain": [
       "<Figure size 1400x600 with 0 Axes>"
      ]
     },
     "metadata": {},
     "output_type": "display_data"
    },
    {
     "data": {
      "image/png": "[encoded data removed]",
      "text/plain": [
       "<Figure size 640x480 with 1 Axes>"
      ]
     },
     "metadata": {},
     "output_type": "display_data"
    }
   ],
   "source": [
    "# Define the function to calculate daily sales\n",
    "def calculate_daily_sales(df):\n",
    "    # Filter the row where 'INCOME/EXPENSE' is 'Income'\n",
    "    income_df = df[df['INCOME/EXPENSE'] =='Income']\n",
    "\n",
    "    # Group by 'DATE' and calculate the sum of 'CASH' and 'CREDIT'\n",
    "    daily_sales = income_df.groupby('DATE')[['CASH','CREDIT']].sum()\n",
    "\n",
    "    return daily_sales\n",
    "\n",
    "# Assuming 'df' is your DATAFRAME containinig the sales data\n",
    "daily_sales = calculate_daily_sales(df)\n",
    "\n",
    "# print the resulting daily sales\n",
    "print(daily_sales)\n",
    "\n",
    "# bar chart\n",
    "\n",
    "# Create a bar chart\n",
    "plt.figure(figsize=(14, 6))  # Set the figure size\n",
    "\n",
    "# Bar chart for Cash and Credit Sales\n",
    "daily_sales.plot(kind='bar', width= 20, color=['blue', 'green'])\n",
    "\n",
    "# Set labels and title\n",
    "plt.title('Daily Cash and Credit Sales')\n",
    "plt.xlabel('Date')\n",
    "plt.ylabel('Sales Amount')\n",
    "plt.xticks(rotation=45)  # Rotate x-axis labels for better readability\n",
    "\n",
    "# Show the plot\n",
    "plt.show()\n",
    "\n",
    "\n",
    "\n",
    "\n",
    "\n",
    "\n",
    "    \n",
    "    "
   ]
  },
  {
   "cell_type": "markdown",
   "id": "de9895ab-a0de-484a-ae15-419729da265c",
   "metadata": {},
   "source": [
    "# TOTAL CASH AND CREDIT"
   ]
  },
  {
   "cell_type": "code",
   "execution_count": 73,
   "id": "42d96146-3540-4efe-8027-8244e74a1d58",
   "metadata": {},
   "outputs": [
    {
     "name": "stdout",
     "output_type": "stream",
     "text": [
      "Total CASH: 2459445.0\n",
      "Total CREDIT: 1106699.95\n"
     ]
    }
   ],
   "source": [
    "def calculate_total(df, columns):\n",
    "    \n",
    "\n",
    "    totals = {}\n",
    "    for column in columns:\n",
    "        totals[column] = df[column].sum()\n",
    "    return totals\n",
    "\n",
    "# Example usage:\n",
    "columns_to_sum = ['CASH', 'CREDIT']\n",
    "totals = calculate_total(df, columns_to_sum)\n",
    "\n",
    "# Print the results\n",
    "for column, total in totals.items():\n",
    "    print(f\"Total {column}: {total}\")"
   ]
  },
  {
   "cell_type": "code",
   "execution_count": 76,
   "id": "b7fefd11-9443-465c-aab9-697bbf116931",
   "metadata": {},
   "outputs": [
    {
     "name": "stdout",
     "output_type": "stream",
     "text": [
      "Total Cash: 2459445.0\n",
      "Total Credit: 1106699.95\n"
     ]
    }
   ],
   "source": [
    "# Bar chart\n",
    "Total_Cash =df['CASH'].sum()\n",
    "Total_Credit = df['CREDIT'].sum()\n",
    "print(\"Total Cash:\",Total_Cash)\n",
    "print(\"Total Credit:\",Total_Credit)\n",
    "\n"
   ]
  },
  {
   "cell_type": "code",
   "execution_count": 78,
   "id": "575b36d9-beac-4749-8edc-da6ddf64bcb9",
   "metadata": {},
   "outputs": [
    {
     "data": {
      "image/png": "[encoded data removed]",
      "text/plain": [
       "<Figure size 800x600 with 1 Axes>"
      ]
     },
     "metadata": {},
     "output_type": "display_data"
    }
   ],
   "source": [
    "# Create a bar chart\n",
    "totals = {'Cash': Total_Cash, 'Credit': Total_Credit}\n",
    "\n",
    "# Plotting the bar chart\n",
    "plt.figure(figsize=(8, 6))  # Set the figure size\n",
    "plt.bar(totals.keys(), totals.values(), color=['blue', 'green'])  # Bar chart with colors for Cash and Credit\n",
    "\n",
    "# Set the title and labels\n",
    "plt.title(\"Total Cash and Credit Sales\")\n",
    "plt.xlabel(\"Sales Type\")\n",
    "plt.ylabel(\"Total Sales\")\n",
    "\n",
    "# Display the bar chart\n",
    "plt.show()"
   ]
  },
  {
   "cell_type": "code",
   "execution_count": 84,
   "id": "33d63ec2-89ac-430c-be19-4ac1ceeecab4",
   "metadata": {},
   "outputs": [
    {
     "name": "stdout",
     "output_type": "stream",
     "text": [
      "Total Income: 403834.95\n",
      "Total Cash Income: 1520715.0\n",
      "Total Revenue: 1924549.95\n"
     ]
    }
   ],
   "source": [
    "def calculate_sales_totals(df):\n",
    "    # Calculate total income (CREDIT for 'Income' rows)\n",
    "    total_income = df.loc[df['INCOME/EXPENSE'] == 'Income', 'CREDIT'].sum()\n",
    "    \n",
    "    # Calculate total cash income (CASH for 'Income' rows)\n",
    "    total_cash_income = df.loc[df['INCOME/EXPENSE'] == 'Income', 'CASH'].sum()\n",
    "    \n",
    "    # Calculate total revenue (sum of Total Cash Income and Total Income)\n",
    "    total_revenue = total_cash_income + total_income\n",
    "    \n",
    "    # Return the results as a dictionary\n",
    "    return {\n",
    "        'Total Income': total_income,\n",
    "        'Total Cash Income': total_cash_income,\n",
    "        'Total Revenue': total_revenue\n",
    "    }\n",
    "\n",
    "# Example usage:\n",
    "sales_totals = calculate_sales_totals(df)\n",
    "\n",
    "# Print the results\n",
    "print('Total Income:',Total_Income)\n",
    "print(\"Total Cash Income:\",Total_Cash_Income)\n",
    "print(\"Total Revenue:\",Total_Cash_Income+Total_Income)\n"
   ]
  },
  {
   "cell_type": "code",
   "execution_count": 90,
   "id": "587e5582-697d-42a8-9851-a3c6aaf082a4",
   "metadata": {},
   "outputs": [
    {
     "name": "stdout",
     "output_type": "stream",
     "text": [
      "Total Income: 403834.95\n",
      "Total Cash Income: 1520715.0\n",
      "Total Revenue: 1924549.95\n"
     ]
    },
    {
     "data": {
      "image/png": "[encoded data removed]",
      "text/plain": [
       "<Figure size 800x600 with 1 Axes>"
      ]
     },
     "metadata": {},
     "output_type": "display_data"
    }
   ],
   "source": [
    "Total_Income = df.loc[df['INCOME/EXPENSE'] == 'Income','CREDIT'].sum()      # another function \n",
    "Total_Cash_Income= df.loc[df['INCOME/EXPENSE'] == 'Income', 'CASH'].sum()\n",
    "\n",
    "\n",
    "\n",
    "print('Total Income:',Total_Income)\n",
    "print(\"Total Cash Income:\",Total_Cash_Income)\n",
    "print(\"Total Revenue:\",Total_Cash_Income+Total_Income)\n",
    "\n",
    "\n",
    "\n",
    "# Create the bar chart\n",
    "plt.figure(figsize=(8, 6))  # Set the figure size\n",
    "plt.bar(totals.keys(), totals.values(), color=['blue', 'green', 'orange'])  # Bar chart with colors for each category\n",
    "\n",
    "# Set title and labels\n",
    "plt.title(\"Total Income, Cash Income, and Revenue\")\n",
    "plt.xlabel(\"Sales Categories\")\n",
    "plt.ylabel(\"Total Amount\")\n",
    "\n",
    "# Display the chart\n",
    "plt.show()"
   ]
  },
  {
   "cell_type": "code",
   "execution_count": 92,
   "id": "8e007a46-bf9c-4d17-ac5a-185807899198",
   "metadata": {},
   "outputs": [
    {
     "name": "stdout",
     "output_type": "stream",
     "text": [
      "                    Cash     Credit\n",
      "DEPARTMENT                         \n",
      "Adminstration  1085655.0   63399.95\n",
      "Kitchen          70945.0  613495.00\n",
      "Resturant      1151145.0  370305.00\n",
      "Room            151700.0   59500.00\n"
     ]
    }
   ],
   "source": [
    "Total_Department = df.groupby(\"DEPARTMENT\").agg(\n",
    "    Cash = ('CASH','sum'),\n",
    "    Credit = ('CREDIT','sum')\n",
    ")\n",
    "print(Total_Department)"
   ]
  },
  {
   "cell_type": "code",
   "execution_count": 1,
   "id": "76667059-8c77-4d94-9049-211196c4b57d",
   "metadata": {},
   "outputs": [
    {
     "ename": "NameError",
     "evalue": "name 'order_data' is not defined",
     "output_type": "error",
     "traceback": [
      "\u001b[1;31m---------------------------------------------------------------------------\u001b[0m",
      "\u001b[1;31mNameError\u001b[0m                                 Traceback (most recent call last)",
      "Cell \u001b[1;32mIn[1], line 4\u001b[0m\n\u001b[0;32m      1\u001b[0m \u001b[38;5;66;03m# Step 6: Top Product and Customers\u001b[39;00m\n\u001b[0;32m      2\u001b[0m \n\u001b[0;32m      3\u001b[0m \u001b[38;5;66;03m# Group by 'Product Name' and aggregate the sales and profit\u001b[39;00m\n\u001b[1;32m----> 4\u001b[0m top_Product \u001b[38;5;241m=\u001b[39m order_data\u001b[38;5;241m.\u001b[39mgroupby(\u001b[38;5;124m\"\u001b[39m\u001b[38;5;124mProduct Name\u001b[39m\u001b[38;5;124m\"\u001b[39m)\u001b[38;5;241m.\u001b[39magg(\n\u001b[0;32m      5\u001b[0m     Total_Sales\u001b[38;5;241m=\u001b[39m(\u001b[38;5;124m\"\u001b[39m\u001b[38;5;124mSales\u001b[39m\u001b[38;5;124m\"\u001b[39m, \u001b[38;5;124m\"\u001b[39m\u001b[38;5;124msum\u001b[39m\u001b[38;5;124m\"\u001b[39m),\n\u001b[0;32m      6\u001b[0m     Total_Profit\u001b[38;5;241m=\u001b[39m(\u001b[38;5;124m\"\u001b[39m\u001b[38;5;124mProfit\u001b[39m\u001b[38;5;124m\"\u001b[39m, \u001b[38;5;124m\"\u001b[39m\u001b[38;5;124msum\u001b[39m\u001b[38;5;124m\"\u001b[39m)\n\u001b[0;32m      7\u001b[0m )\u001b[38;5;241m.\u001b[39msort_values(by\u001b[38;5;241m=\u001b[39m\u001b[38;5;124m\"\u001b[39m\u001b[38;5;124mTotal_Sales\u001b[39m\u001b[38;5;124m\"\u001b[39m, ascending\u001b[38;5;241m=\u001b[39m\u001b[38;5;28;01mFalse\u001b[39;00m)\u001b[38;5;241m.\u001b[39mhead(\u001b[38;5;241m10\u001b[39m)\n\u001b[0;32m      9\u001b[0m \u001b[38;5;66;03m# Group by 'Customer Name' and aggregate the sales and profit\u001b[39;00m\n\u001b[0;32m     10\u001b[0m top_customers \u001b[38;5;241m=\u001b[39m order_data\u001b[38;5;241m.\u001b[39mgroupby(\u001b[38;5;124m\"\u001b[39m\u001b[38;5;124mCustomer Name\u001b[39m\u001b[38;5;124m\"\u001b[39m)\u001b[38;5;241m.\u001b[39magg(\n\u001b[0;32m     11\u001b[0m     Total_Sales\u001b[38;5;241m=\u001b[39m(\u001b[38;5;124m\"\u001b[39m\u001b[38;5;124mSales\u001b[39m\u001b[38;5;124m\"\u001b[39m, \u001b[38;5;124m\"\u001b[39m\u001b[38;5;124msum\u001b[39m\u001b[38;5;124m\"\u001b[39m),\n\u001b[0;32m     12\u001b[0m     Total_Profit\u001b[38;5;241m=\u001b[39m(\u001b[38;5;124m\"\u001b[39m\u001b[38;5;124mProfit\u001b[39m\u001b[38;5;124m\"\u001b[39m, \u001b[38;5;124m\"\u001b[39m\u001b[38;5;124msum\u001b[39m\u001b[38;5;124m\"\u001b[39m)\n\u001b[0;32m     13\u001b[0m )\u001b[38;5;241m.\u001b[39msort_values(by\u001b[38;5;241m=\u001b[39m\u001b[38;5;124m\"\u001b[39m\u001b[38;5;124mTotal_Sales\u001b[39m\u001b[38;5;124m\"\u001b[39m, ascending\u001b[38;5;241m=\u001b[39m\u001b[38;5;28;01mFalse\u001b[39;00m)\u001b[38;5;241m.\u001b[39mhead(\u001b[38;5;241m10\u001b[39m)\n",
      "\u001b[1;31mNameError\u001b[0m: name 'order_data' is not defined"
     ]
    }
   ],
   "source": [
    "\n",
    "# Step 6: Top Product and Customers\n",
    "\n",
    "# Group by 'Product Name' and aggregate the sales and profit\n",
    "top_Product = order_data.groupby(\"Product Name\").agg(\n",
    "    Total_Sales=(\"Sales\", \"sum\"),\n",
    "    Total_Profit=(\"Profit\", \"sum\")\n",
    ").sort_values(by=\"Total_Sales\", ascending=False).head(10)\n",
    "\n",
    "# Group by 'Customer Name' and aggregate the sales and profit\n",
    "top_customers = order_data.groupby(\"Customer Name\").agg(\n",
    "    Total_Sales=(\"Sales\", \"sum\"),\n",
    "    Total_Profit=(\"Profit\", \"sum\")\n",
    ").sort_values(by=\"Total_Sales\", ascending=False).head(10)\n",
    "\n",
    "# Print the top 10 products by sales\n",
    "print(\"\\nTop 10 Products by Sales:\")\n",
    "print(top_Product)\n",
    "\n",
    "# Print the top 10 customers by sales\n",
    "print(\"\\nTop 10 Customers by Sales:\")\n",
    "print(top_customers)"
   ]
  },
  {
   "cell_type": "code",
   "execution_count": 114,
   "id": "e6c1f22c-02cd-43dd-ae7e-f39a01bfa3c2",
   "metadata": {},
   "outputs": [
    {
     "ename": "KeyError",
     "evalue": "'Costumer Name'",
     "output_type": "error",
     "traceback": [
      "\u001b[1;31m---------------------------------------------------------------------------\u001b[0m",
      "\u001b[1;31mKeyError\u001b[0m                                  Traceback (most recent call last)",
      "Cell \u001b[1;32mIn[114], line 1\u001b[0m\n\u001b[1;32m----> 1\u001b[0m top_costumers \u001b[38;5;241m=\u001b[39m df\u001b[38;5;241m.\u001b[39mgroupby(\u001b[38;5;124m\"\u001b[39m\u001b[38;5;124mCostumer Name\u001b[39m\u001b[38;5;124m\"\u001b[39m)\u001b[38;5;241m.\u001b[39magg(\n\u001b[0;32m      2\u001b[0m     Total_Sales\u001b[38;5;241m=\u001b[39m(\u001b[38;5;124m\"\u001b[39m\u001b[38;5;124mSales\u001b[39m\u001b[38;5;124m\"\u001b[39m, \u001b[38;5;124m\"\u001b[39m\u001b[38;5;124msum\u001b[39m\u001b[38;5;124m\"\u001b[39m)\n\u001b[0;32m      3\u001b[0m )\u001b[38;5;241m.\u001b[39msort_values(by\u001b[38;5;241m=\u001b[39m\u001b[38;5;124m\"\u001b[39m\u001b[38;5;124mTotal_Sales\u001b[39m\u001b[38;5;124m\"\u001b[39m, ascending\u001b[38;5;241m=\u001b[39m\u001b[38;5;28;01mFalse\u001b[39;00m)\u001b[38;5;241m.\u001b[39mhead(\u001b[38;5;241m10\u001b[39m)  \u001b[38;5;66;03m# Top 10 customers\u001b[39;00m\n\u001b[0;32m      5\u001b[0m \u001b[38;5;28mprint\u001b[39m(\u001b[38;5;124m\"\u001b[39m\u001b[38;5;130;01m\\n\u001b[39;00m\u001b[38;5;124mTop 10 Costumers by Sales:\u001b[39m\u001b[38;5;124m\"\u001b[39m)\n\u001b[0;32m      6\u001b[0m \u001b[38;5;28mprint\u001b[39m(top_costumers)\n",
      "File \u001b[1;32m~\\anaconda3\\Lib\\site-packages\\pandas\\core\\frame.py:9183\u001b[0m, in \u001b[0;36mDataFrame.groupby\u001b[1;34m(self, by, axis, level, as_index, sort, group_keys, observed, dropna)\u001b[0m\n\u001b[0;32m   9180\u001b[0m \u001b[38;5;28;01mif\u001b[39;00m level \u001b[38;5;129;01mis\u001b[39;00m \u001b[38;5;28;01mNone\u001b[39;00m \u001b[38;5;129;01mand\u001b[39;00m by \u001b[38;5;129;01mis\u001b[39;00m \u001b[38;5;28;01mNone\u001b[39;00m:\n\u001b[0;32m   9181\u001b[0m     \u001b[38;5;28;01mraise\u001b[39;00m \u001b[38;5;167;01mTypeError\u001b[39;00m(\u001b[38;5;124m\"\u001b[39m\u001b[38;5;124mYou have to supply one of \u001b[39m\u001b[38;5;124m'\u001b[39m\u001b[38;5;124mby\u001b[39m\u001b[38;5;124m'\u001b[39m\u001b[38;5;124m and \u001b[39m\u001b[38;5;124m'\u001b[39m\u001b[38;5;124mlevel\u001b[39m\u001b[38;5;124m'\u001b[39m\u001b[38;5;124m\"\u001b[39m)\n\u001b[1;32m-> 9183\u001b[0m \u001b[38;5;28;01mreturn\u001b[39;00m DataFrameGroupBy(\n\u001b[0;32m   9184\u001b[0m     obj\u001b[38;5;241m=\u001b[39m\u001b[38;5;28mself\u001b[39m,\n\u001b[0;32m   9185\u001b[0m     keys\u001b[38;5;241m=\u001b[39mby,\n\u001b[0;32m   9186\u001b[0m     axis\u001b[38;5;241m=\u001b[39maxis,\n\u001b[0;32m   9187\u001b[0m     level\u001b[38;5;241m=\u001b[39mlevel,\n\u001b[0;32m   9188\u001b[0m     as_index\u001b[38;5;241m=\u001b[39mas_index,\n\u001b[0;32m   9189\u001b[0m     sort\u001b[38;5;241m=\u001b[39msort,\n\u001b[0;32m   9190\u001b[0m     group_keys\u001b[38;5;241m=\u001b[39mgroup_keys,\n\u001b[0;32m   9191\u001b[0m     observed\u001b[38;5;241m=\u001b[39mobserved,\n\u001b[0;32m   9192\u001b[0m     dropna\u001b[38;5;241m=\u001b[39mdropna,\n\u001b[0;32m   9193\u001b[0m )\n",
      "File \u001b[1;32m~\\anaconda3\\Lib\\site-packages\\pandas\\core\\groupby\\groupby.py:1329\u001b[0m, in \u001b[0;36mGroupBy.__init__\u001b[1;34m(self, obj, keys, axis, level, grouper, exclusions, selection, as_index, sort, group_keys, observed, dropna)\u001b[0m\n\u001b[0;32m   1326\u001b[0m \u001b[38;5;28mself\u001b[39m\u001b[38;5;241m.\u001b[39mdropna \u001b[38;5;241m=\u001b[39m dropna\n\u001b[0;32m   1328\u001b[0m \u001b[38;5;28;01mif\u001b[39;00m grouper \u001b[38;5;129;01mis\u001b[39;00m \u001b[38;5;28;01mNone\u001b[39;00m:\n\u001b[1;32m-> 1329\u001b[0m     grouper, exclusions, obj \u001b[38;5;241m=\u001b[39m get_grouper(\n\u001b[0;32m   1330\u001b[0m         obj,\n\u001b[0;32m   1331\u001b[0m         keys,\n\u001b[0;32m   1332\u001b[0m         axis\u001b[38;5;241m=\u001b[39maxis,\n\u001b[0;32m   1333\u001b[0m         level\u001b[38;5;241m=\u001b[39mlevel,\n\u001b[0;32m   1334\u001b[0m         sort\u001b[38;5;241m=\u001b[39msort,\n\u001b[0;32m   1335\u001b[0m         observed\u001b[38;5;241m=\u001b[39m\u001b[38;5;28;01mFalse\u001b[39;00m \u001b[38;5;28;01mif\u001b[39;00m observed \u001b[38;5;129;01mis\u001b[39;00m lib\u001b[38;5;241m.\u001b[39mno_default \u001b[38;5;28;01melse\u001b[39;00m observed,\n\u001b[0;32m   1336\u001b[0m         dropna\u001b[38;5;241m=\u001b[39m\u001b[38;5;28mself\u001b[39m\u001b[38;5;241m.\u001b[39mdropna,\n\u001b[0;32m   1337\u001b[0m     )\n\u001b[0;32m   1339\u001b[0m \u001b[38;5;28;01mif\u001b[39;00m observed \u001b[38;5;129;01mis\u001b[39;00m lib\u001b[38;5;241m.\u001b[39mno_default:\n\u001b[0;32m   1340\u001b[0m     \u001b[38;5;28;01mif\u001b[39;00m \u001b[38;5;28many\u001b[39m(ping\u001b[38;5;241m.\u001b[39m_passed_categorical \u001b[38;5;28;01mfor\u001b[39;00m ping \u001b[38;5;129;01min\u001b[39;00m grouper\u001b[38;5;241m.\u001b[39mgroupings):\n",
      "File \u001b[1;32m~\\anaconda3\\Lib\\site-packages\\pandas\\core\\groupby\\grouper.py:1043\u001b[0m, in \u001b[0;36mget_grouper\u001b[1;34m(obj, key, axis, level, sort, observed, validate, dropna)\u001b[0m\n\u001b[0;32m   1041\u001b[0m         in_axis, level, gpr \u001b[38;5;241m=\u001b[39m \u001b[38;5;28;01mFalse\u001b[39;00m, gpr, \u001b[38;5;28;01mNone\u001b[39;00m\n\u001b[0;32m   1042\u001b[0m     \u001b[38;5;28;01melse\u001b[39;00m:\n\u001b[1;32m-> 1043\u001b[0m         \u001b[38;5;28;01mraise\u001b[39;00m \u001b[38;5;167;01mKeyError\u001b[39;00m(gpr)\n\u001b[0;32m   1044\u001b[0m \u001b[38;5;28;01melif\u001b[39;00m \u001b[38;5;28misinstance\u001b[39m(gpr, Grouper) \u001b[38;5;129;01mand\u001b[39;00m gpr\u001b[38;5;241m.\u001b[39mkey \u001b[38;5;129;01mis\u001b[39;00m \u001b[38;5;129;01mnot\u001b[39;00m \u001b[38;5;28;01mNone\u001b[39;00m:\n\u001b[0;32m   1045\u001b[0m     \u001b[38;5;66;03m# Add key to exclusions\u001b[39;00m\n\u001b[0;32m   1046\u001b[0m     exclusions\u001b[38;5;241m.\u001b[39madd(gpr\u001b[38;5;241m.\u001b[39mkey)\n",
      "\u001b[1;31mKeyError\u001b[0m: 'Costumer Name'"
     ]
    }
   ],
   "source": [
    "top_costumers = df.groupby(\"Costumer Name\").agg(\n",
    "    Total_Sales=(\"Sales\", \"sum\")\n",
    ").sort_values(by=\"Total_Sales\", ascending=False).head(10)  # Top 10 customers\n",
    "\n",
    "print(\"\\nTop 10 Costumers by Sales:\")\n",
    "print(top_costumers)"
   ]
  },
  {
   "cell_type": "code",
   "execution_count": 118,
   "id": "08a2c26a-707e-46ab-b530-bd5a65911fcb",
   "metadata": {},
   "outputs": [
    {
     "ename": "KeyError",
     "evalue": "'VENDOR/COSTUMER'",
     "output_type": "error",
     "traceback": [
      "\u001b[1;31m---------------------------------------------------------------------------\u001b[0m",
      "\u001b[1;31mKeyError\u001b[0m                                  Traceback (most recent call last)",
      "Cell \u001b[1;32mIn[118], line 1\u001b[0m\n\u001b[1;32m----> 1\u001b[0m top_customers \u001b[38;5;241m=\u001b[39m df\u001b[38;5;241m.\u001b[39mgroupby(\u001b[38;5;124m'\u001b[39m\u001b[38;5;124mVENDOR/COSTUMER\u001b[39m\u001b[38;5;124m'\u001b[39m)\u001b[38;5;241m.\u001b[39magg(\n\u001b[0;32m      2\u001b[0m     Total_amount \u001b[38;5;241m=\u001b[39m (\u001b[38;5;124m'\u001b[39m\u001b[38;5;124mSELLS\u001b[39m\u001b[38;5;124m'\u001b[39m,\u001b[38;5;124m'\u001b[39m\u001b[38;5;124msum\u001b[39m\u001b[38;5;124m'\u001b[39m)\n\u001b[0;32m      3\u001b[0m )\u001b[38;5;241m.\u001b[39msort_values(by\u001b[38;5;241m=\u001b[39m\u001b[38;5;124m\"\u001b[39m\u001b[38;5;124mTotal_amount\u001b[39m\u001b[38;5;124m\"\u001b[39m, ascending\u001b[38;5;241m=\u001b[39m\u001b[38;5;28;01mFalse\u001b[39;00m)\n\u001b[0;32m      4\u001b[0m \u001b[38;5;28mprint\u001b[39m(top_customers)\n",
      "File \u001b[1;32m~\\anaconda3\\Lib\\site-packages\\pandas\\core\\frame.py:9183\u001b[0m, in \u001b[0;36mDataFrame.groupby\u001b[1;34m(self, by, axis, level, as_index, sort, group_keys, observed, dropna)\u001b[0m\n\u001b[0;32m   9180\u001b[0m \u001b[38;5;28;01mif\u001b[39;00m level \u001b[38;5;129;01mis\u001b[39;00m \u001b[38;5;28;01mNone\u001b[39;00m \u001b[38;5;129;01mand\u001b[39;00m by \u001b[38;5;129;01mis\u001b[39;00m \u001b[38;5;28;01mNone\u001b[39;00m:\n\u001b[0;32m   9181\u001b[0m     \u001b[38;5;28;01mraise\u001b[39;00m \u001b[38;5;167;01mTypeError\u001b[39;00m(\u001b[38;5;124m\"\u001b[39m\u001b[38;5;124mYou have to supply one of \u001b[39m\u001b[38;5;124m'\u001b[39m\u001b[38;5;124mby\u001b[39m\u001b[38;5;124m'\u001b[39m\u001b[38;5;124m and \u001b[39m\u001b[38;5;124m'\u001b[39m\u001b[38;5;124mlevel\u001b[39m\u001b[38;5;124m'\u001b[39m\u001b[38;5;124m\"\u001b[39m)\n\u001b[1;32m-> 9183\u001b[0m \u001b[38;5;28;01mreturn\u001b[39;00m DataFrameGroupBy(\n\u001b[0;32m   9184\u001b[0m     obj\u001b[38;5;241m=\u001b[39m\u001b[38;5;28mself\u001b[39m,\n\u001b[0;32m   9185\u001b[0m     keys\u001b[38;5;241m=\u001b[39mby,\n\u001b[0;32m   9186\u001b[0m     axis\u001b[38;5;241m=\u001b[39maxis,\n\u001b[0;32m   9187\u001b[0m     level\u001b[38;5;241m=\u001b[39mlevel,\n\u001b[0;32m   9188\u001b[0m     as_index\u001b[38;5;241m=\u001b[39mas_index,\n\u001b[0;32m   9189\u001b[0m     sort\u001b[38;5;241m=\u001b[39msort,\n\u001b[0;32m   9190\u001b[0m     group_keys\u001b[38;5;241m=\u001b[39mgroup_keys,\n\u001b[0;32m   9191\u001b[0m     observed\u001b[38;5;241m=\u001b[39mobserved,\n\u001b[0;32m   9192\u001b[0m     dropna\u001b[38;5;241m=\u001b[39mdropna,\n\u001b[0;32m   9193\u001b[0m )\n",
      "File \u001b[1;32m~\\anaconda3\\Lib\\site-packages\\pandas\\core\\groupby\\groupby.py:1329\u001b[0m, in \u001b[0;36mGroupBy.__init__\u001b[1;34m(self, obj, keys, axis, level, grouper, exclusions, selection, as_index, sort, group_keys, observed, dropna)\u001b[0m\n\u001b[0;32m   1326\u001b[0m \u001b[38;5;28mself\u001b[39m\u001b[38;5;241m.\u001b[39mdropna \u001b[38;5;241m=\u001b[39m dropna\n\u001b[0;32m   1328\u001b[0m \u001b[38;5;28;01mif\u001b[39;00m grouper \u001b[38;5;129;01mis\u001b[39;00m \u001b[38;5;28;01mNone\u001b[39;00m:\n\u001b[1;32m-> 1329\u001b[0m     grouper, exclusions, obj \u001b[38;5;241m=\u001b[39m get_grouper(\n\u001b[0;32m   1330\u001b[0m         obj,\n\u001b[0;32m   1331\u001b[0m         keys,\n\u001b[0;32m   1332\u001b[0m         axis\u001b[38;5;241m=\u001b[39maxis,\n\u001b[0;32m   1333\u001b[0m         level\u001b[38;5;241m=\u001b[39mlevel,\n\u001b[0;32m   1334\u001b[0m         sort\u001b[38;5;241m=\u001b[39msort,\n\u001b[0;32m   1335\u001b[0m         observed\u001b[38;5;241m=\u001b[39m\u001b[38;5;28;01mFalse\u001b[39;00m \u001b[38;5;28;01mif\u001b[39;00m observed \u001b[38;5;129;01mis\u001b[39;00m lib\u001b[38;5;241m.\u001b[39mno_default \u001b[38;5;28;01melse\u001b[39;00m observed,\n\u001b[0;32m   1336\u001b[0m         dropna\u001b[38;5;241m=\u001b[39m\u001b[38;5;28mself\u001b[39m\u001b[38;5;241m.\u001b[39mdropna,\n\u001b[0;32m   1337\u001b[0m     )\n\u001b[0;32m   1339\u001b[0m \u001b[38;5;28;01mif\u001b[39;00m observed \u001b[38;5;129;01mis\u001b[39;00m lib\u001b[38;5;241m.\u001b[39mno_default:\n\u001b[0;32m   1340\u001b[0m     \u001b[38;5;28;01mif\u001b[39;00m \u001b[38;5;28many\u001b[39m(ping\u001b[38;5;241m.\u001b[39m_passed_categorical \u001b[38;5;28;01mfor\u001b[39;00m ping \u001b[38;5;129;01min\u001b[39;00m grouper\u001b[38;5;241m.\u001b[39mgroupings):\n",
      "File \u001b[1;32m~\\anaconda3\\Lib\\site-packages\\pandas\\core\\groupby\\grouper.py:1043\u001b[0m, in \u001b[0;36mget_grouper\u001b[1;34m(obj, key, axis, level, sort, observed, validate, dropna)\u001b[0m\n\u001b[0;32m   1041\u001b[0m         in_axis, level, gpr \u001b[38;5;241m=\u001b[39m \u001b[38;5;28;01mFalse\u001b[39;00m, gpr, \u001b[38;5;28;01mNone\u001b[39;00m\n\u001b[0;32m   1042\u001b[0m     \u001b[38;5;28;01melse\u001b[39;00m:\n\u001b[1;32m-> 1043\u001b[0m         \u001b[38;5;28;01mraise\u001b[39;00m \u001b[38;5;167;01mKeyError\u001b[39;00m(gpr)\n\u001b[0;32m   1044\u001b[0m \u001b[38;5;28;01melif\u001b[39;00m \u001b[38;5;28misinstance\u001b[39m(gpr, Grouper) \u001b[38;5;129;01mand\u001b[39;00m gpr\u001b[38;5;241m.\u001b[39mkey \u001b[38;5;129;01mis\u001b[39;00m \u001b[38;5;129;01mnot\u001b[39;00m \u001b[38;5;28;01mNone\u001b[39;00m:\n\u001b[0;32m   1045\u001b[0m     \u001b[38;5;66;03m# Add key to exclusions\u001b[39;00m\n\u001b[0;32m   1046\u001b[0m     exclusions\u001b[38;5;241m.\u001b[39madd(gpr\u001b[38;5;241m.\u001b[39mkey)\n",
      "\u001b[1;31mKeyError\u001b[0m: 'VENDOR/COSTUMER'"
     ]
    }
   ],
   "source": [
    "top_customers = df.groupby('VENDOR/COSTUMER').agg(\n",
    "    Total_amount = ('SELLS','sum')\n",
    ").sort_values(by=\"Total_amount\", ascending=False)\n",
    "print(top_customers)"
   ]
  },
  {
   "cell_type": "code",
   "execution_count": 124,
   "id": "f8268d38-0520-4b7e-8799-e58524d71ce9",
   "metadata": {},
   "outputs": [
    {
     "ename": "KeyError",
     "evalue": "\"Column(s) ['SALES'] do not exist\"",
     "output_type": "error",
     "traceback": [
      "\u001b[1;31m---------------------------------------------------------------------------\u001b[0m",
      "\u001b[1;31mKeyError\u001b[0m                                  Traceback (most recent call last)",
      "Cell \u001b[1;32mIn[124], line 1\u001b[0m\n\u001b[1;32m----> 1\u001b[0m department \u001b[38;5;241m=\u001b[39m df\u001b[38;5;241m.\u001b[39mgroupby(\u001b[38;5;124m'\u001b[39m\u001b[38;5;124mDEPARTMENT\u001b[39m\u001b[38;5;124m'\u001b[39m)\u001b[38;5;241m.\u001b[39magg(\n\u001b[0;32m      2\u001b[0m     Total_amount\u001b[38;5;241m=\u001b[39m(\u001b[38;5;124m'\u001b[39m\u001b[38;5;124mSALES\u001b[39m\u001b[38;5;124m'\u001b[39m, \u001b[38;5;124m'\u001b[39m\u001b[38;5;124msum\u001b[39m\u001b[38;5;124m'\u001b[39m)  \u001b[38;5;66;03m# Make sure the column name is 'SALES', not 'SELLS'\u001b[39;00m\n\u001b[0;32m      3\u001b[0m )\u001b[38;5;241m.\u001b[39msort_values(by\u001b[38;5;241m=\u001b[39m\u001b[38;5;124m\"\u001b[39m\u001b[38;5;124mTotal_amount\u001b[39m\u001b[38;5;124m\"\u001b[39m, ascending\u001b[38;5;241m=\u001b[39m\u001b[38;5;28;01mFalse\u001b[39;00m)\n\u001b[0;32m      5\u001b[0m \u001b[38;5;28mprint\u001b[39m(department)\n",
      "File \u001b[1;32m~\\anaconda3\\Lib\\site-packages\\pandas\\core\\groupby\\generic.py:1432\u001b[0m, in \u001b[0;36mDataFrameGroupBy.aggregate\u001b[1;34m(self, func, engine, engine_kwargs, *args, **kwargs)\u001b[0m\n\u001b[0;32m   1429\u001b[0m     kwargs[\u001b[38;5;124m\"\u001b[39m\u001b[38;5;124mengine_kwargs\u001b[39m\u001b[38;5;124m\"\u001b[39m] \u001b[38;5;241m=\u001b[39m engine_kwargs\n\u001b[0;32m   1431\u001b[0m op \u001b[38;5;241m=\u001b[39m GroupByApply(\u001b[38;5;28mself\u001b[39m, func, args\u001b[38;5;241m=\u001b[39margs, kwargs\u001b[38;5;241m=\u001b[39mkwargs)\n\u001b[1;32m-> 1432\u001b[0m result \u001b[38;5;241m=\u001b[39m op\u001b[38;5;241m.\u001b[39magg()\n\u001b[0;32m   1433\u001b[0m \u001b[38;5;28;01mif\u001b[39;00m \u001b[38;5;129;01mnot\u001b[39;00m is_dict_like(func) \u001b[38;5;129;01mand\u001b[39;00m result \u001b[38;5;129;01mis\u001b[39;00m \u001b[38;5;129;01mnot\u001b[39;00m \u001b[38;5;28;01mNone\u001b[39;00m:\n\u001b[0;32m   1434\u001b[0m     \u001b[38;5;66;03m# GH #52849\u001b[39;00m\n\u001b[0;32m   1435\u001b[0m     \u001b[38;5;28;01mif\u001b[39;00m \u001b[38;5;129;01mnot\u001b[39;00m \u001b[38;5;28mself\u001b[39m\u001b[38;5;241m.\u001b[39mas_index \u001b[38;5;129;01mand\u001b[39;00m is_list_like(func):\n",
      "File \u001b[1;32m~\\anaconda3\\Lib\\site-packages\\pandas\\core\\apply.py:190\u001b[0m, in \u001b[0;36mApply.agg\u001b[1;34m(self)\u001b[0m\n\u001b[0;32m    187\u001b[0m     \u001b[38;5;28;01mreturn\u001b[39;00m \u001b[38;5;28mself\u001b[39m\u001b[38;5;241m.\u001b[39mapply_str()\n\u001b[0;32m    189\u001b[0m \u001b[38;5;28;01mif\u001b[39;00m is_dict_like(func):\n\u001b[1;32m--> 190\u001b[0m     \u001b[38;5;28;01mreturn\u001b[39;00m \u001b[38;5;28mself\u001b[39m\u001b[38;5;241m.\u001b[39magg_dict_like()\n\u001b[0;32m    191\u001b[0m \u001b[38;5;28;01melif\u001b[39;00m is_list_like(func):\n\u001b[0;32m    192\u001b[0m     \u001b[38;5;66;03m# we require a list, but not a 'str'\u001b[39;00m\n\u001b[0;32m    193\u001b[0m     \u001b[38;5;28;01mreturn\u001b[39;00m \u001b[38;5;28mself\u001b[39m\u001b[38;5;241m.\u001b[39magg_list_like()\n",
      "File \u001b[1;32m~\\anaconda3\\Lib\\site-packages\\pandas\\core\\apply.py:423\u001b[0m, in \u001b[0;36mApply.agg_dict_like\u001b[1;34m(self)\u001b[0m\n\u001b[0;32m    415\u001b[0m \u001b[38;5;28;01mdef\u001b[39;00m \u001b[38;5;21magg_dict_like\u001b[39m(\u001b[38;5;28mself\u001b[39m) \u001b[38;5;241m-\u001b[39m\u001b[38;5;241m>\u001b[39m DataFrame \u001b[38;5;241m|\u001b[39m Series:\n\u001b[0;32m    416\u001b[0m \u001b[38;5;250m    \u001b[39m\u001b[38;5;124;03m\"\"\"\u001b[39;00m\n\u001b[0;32m    417\u001b[0m \u001b[38;5;124;03m    Compute aggregation in the case of a dict-like argument.\u001b[39;00m\n\u001b[0;32m    418\u001b[0m \n\u001b[1;32m   (...)\u001b[0m\n\u001b[0;32m    421\u001b[0m \u001b[38;5;124;03m    Result of aggregation.\u001b[39;00m\n\u001b[0;32m    422\u001b[0m \u001b[38;5;124;03m    \"\"\"\u001b[39;00m\n\u001b[1;32m--> 423\u001b[0m     \u001b[38;5;28;01mreturn\u001b[39;00m \u001b[38;5;28mself\u001b[39m\u001b[38;5;241m.\u001b[39magg_or_apply_dict_like(op_name\u001b[38;5;241m=\u001b[39m\u001b[38;5;124m\"\u001b[39m\u001b[38;5;124magg\u001b[39m\u001b[38;5;124m\"\u001b[39m)\n",
      "File \u001b[1;32m~\\anaconda3\\Lib\\site-packages\\pandas\\core\\apply.py:1608\u001b[0m, in \u001b[0;36mGroupByApply.agg_or_apply_dict_like\u001b[1;34m(self, op_name)\u001b[0m\n\u001b[0;32m   1603\u001b[0m     kwargs\u001b[38;5;241m.\u001b[39mupdate({\u001b[38;5;124m\"\u001b[39m\u001b[38;5;124mengine\u001b[39m\u001b[38;5;124m\"\u001b[39m: engine, \u001b[38;5;124m\"\u001b[39m\u001b[38;5;124mengine_kwargs\u001b[39m\u001b[38;5;124m\"\u001b[39m: engine_kwargs})\n\u001b[0;32m   1605\u001b[0m \u001b[38;5;28;01mwith\u001b[39;00m com\u001b[38;5;241m.\u001b[39mtemp_setattr(\n\u001b[0;32m   1606\u001b[0m     obj, \u001b[38;5;124m\"\u001b[39m\u001b[38;5;124mas_index\u001b[39m\u001b[38;5;124m\"\u001b[39m, \u001b[38;5;28;01mTrue\u001b[39;00m, condition\u001b[38;5;241m=\u001b[39m\u001b[38;5;28mhasattr\u001b[39m(obj, \u001b[38;5;124m\"\u001b[39m\u001b[38;5;124mas_index\u001b[39m\u001b[38;5;124m\"\u001b[39m)\n\u001b[0;32m   1607\u001b[0m ):\n\u001b[1;32m-> 1608\u001b[0m     result_index, result_data \u001b[38;5;241m=\u001b[39m \u001b[38;5;28mself\u001b[39m\u001b[38;5;241m.\u001b[39mcompute_dict_like(\n\u001b[0;32m   1609\u001b[0m         op_name, selected_obj, selection, kwargs\n\u001b[0;32m   1610\u001b[0m     )\n\u001b[0;32m   1611\u001b[0m result \u001b[38;5;241m=\u001b[39m \u001b[38;5;28mself\u001b[39m\u001b[38;5;241m.\u001b[39mwrap_results_dict_like(selected_obj, result_index, result_data)\n\u001b[0;32m   1612\u001b[0m \u001b[38;5;28;01mreturn\u001b[39;00m result\n",
      "File \u001b[1;32m~\\anaconda3\\Lib\\site-packages\\pandas\\core\\apply.py:462\u001b[0m, in \u001b[0;36mApply.compute_dict_like\u001b[1;34m(self, op_name, selected_obj, selection, kwargs)\u001b[0m\n\u001b[0;32m    460\u001b[0m is_groupby \u001b[38;5;241m=\u001b[39m \u001b[38;5;28misinstance\u001b[39m(obj, (DataFrameGroupBy, SeriesGroupBy))\n\u001b[0;32m    461\u001b[0m func \u001b[38;5;241m=\u001b[39m cast(AggFuncTypeDict, \u001b[38;5;28mself\u001b[39m\u001b[38;5;241m.\u001b[39mfunc)\n\u001b[1;32m--> 462\u001b[0m func \u001b[38;5;241m=\u001b[39m \u001b[38;5;28mself\u001b[39m\u001b[38;5;241m.\u001b[39mnormalize_dictlike_arg(op_name, selected_obj, func)\n\u001b[0;32m    464\u001b[0m is_non_unique_col \u001b[38;5;241m=\u001b[39m (\n\u001b[0;32m    465\u001b[0m     selected_obj\u001b[38;5;241m.\u001b[39mndim \u001b[38;5;241m==\u001b[39m \u001b[38;5;241m2\u001b[39m\n\u001b[0;32m    466\u001b[0m     \u001b[38;5;129;01mand\u001b[39;00m selected_obj\u001b[38;5;241m.\u001b[39mcolumns\u001b[38;5;241m.\u001b[39mnunique() \u001b[38;5;241m<\u001b[39m \u001b[38;5;28mlen\u001b[39m(selected_obj\u001b[38;5;241m.\u001b[39mcolumns)\n\u001b[0;32m    467\u001b[0m )\n\u001b[0;32m    469\u001b[0m \u001b[38;5;28;01mif\u001b[39;00m selected_obj\u001b[38;5;241m.\u001b[39mndim \u001b[38;5;241m==\u001b[39m \u001b[38;5;241m1\u001b[39m:\n\u001b[0;32m    470\u001b[0m     \u001b[38;5;66;03m# key only used for output\u001b[39;00m\n",
      "File \u001b[1;32m~\\anaconda3\\Lib\\site-packages\\pandas\\core\\apply.py:663\u001b[0m, in \u001b[0;36mApply.normalize_dictlike_arg\u001b[1;34m(self, how, obj, func)\u001b[0m\n\u001b[0;32m    661\u001b[0m     cols \u001b[38;5;241m=\u001b[39m Index(\u001b[38;5;28mlist\u001b[39m(func\u001b[38;5;241m.\u001b[39mkeys()))\u001b[38;5;241m.\u001b[39mdifference(obj\u001b[38;5;241m.\u001b[39mcolumns, sort\u001b[38;5;241m=\u001b[39m\u001b[38;5;28;01mTrue\u001b[39;00m)\n\u001b[0;32m    662\u001b[0m     \u001b[38;5;28;01mif\u001b[39;00m \u001b[38;5;28mlen\u001b[39m(cols) \u001b[38;5;241m>\u001b[39m \u001b[38;5;241m0\u001b[39m:\n\u001b[1;32m--> 663\u001b[0m         \u001b[38;5;28;01mraise\u001b[39;00m \u001b[38;5;167;01mKeyError\u001b[39;00m(\u001b[38;5;124mf\u001b[39m\u001b[38;5;124m\"\u001b[39m\u001b[38;5;124mColumn(s) \u001b[39m\u001b[38;5;132;01m{\u001b[39;00m\u001b[38;5;28mlist\u001b[39m(cols)\u001b[38;5;132;01m}\u001b[39;00m\u001b[38;5;124m do not exist\u001b[39m\u001b[38;5;124m\"\u001b[39m)\n\u001b[0;32m    665\u001b[0m aggregator_types \u001b[38;5;241m=\u001b[39m (\u001b[38;5;28mlist\u001b[39m, \u001b[38;5;28mtuple\u001b[39m, \u001b[38;5;28mdict\u001b[39m)\n\u001b[0;32m    667\u001b[0m \u001b[38;5;66;03m# if we have a dict of any non-scalars\u001b[39;00m\n\u001b[0;32m    668\u001b[0m \u001b[38;5;66;03m# eg. {'A' : ['mean']}, normalize all to\u001b[39;00m\n\u001b[0;32m    669\u001b[0m \u001b[38;5;66;03m# be list-likes\u001b[39;00m\n\u001b[0;32m    670\u001b[0m \u001b[38;5;66;03m# Cannot use func.values() because arg may be a Series\u001b[39;00m\n",
      "\u001b[1;31mKeyError\u001b[0m: \"Column(s) ['SALES'] do not exist\""
     ]
    }
   ],
   "source": [
    "department = df.groupby('DEPARTMENT').agg(\n",
    "    Total_amount=('SALES', 'sum')  # Make sure the column name is 'SALES', not 'SELLS'\n",
    ").sort_values(by=\"Total_amount\", ascending=False)\n",
    "\n",
    "print(department)"
   ]
  },
  {
   "cell_type": "code",
   "execution_count": null,
   "id": "90130243-f8d4-4455-877d-7b19c401b459",
   "metadata": {},
   "outputs": [],
   "source": []
  }
 ],
 "metadata": {
  "kernelspec": {
   "display_name": "Python 3 (ipykernel)",
   "language": "python",
   "name": "python3"
  },
  "language_info": {
   "codemirror_mode": {
    "name": "ipython",
    "version": 3
   },
   "file_extension": ".py",
   "mimetype": "text/x-python",
   "name": "python",
   "nbconvert_exporter": "python",
   "pygments_lexer": "ipython3",
   "version": "3.12.4"
  }
 },
 "nbformat": 4,
 "nbformat_minor": 5
}
